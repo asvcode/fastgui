{
 "cells": [
  {
   "cell_type": "code",
   "execution_count": 12,
   "metadata": {},
   "outputs": [],
   "source": [
    "#hide\n",
    "import ipywidgets as widgets\n",
    "from fastai2.vision.all import *\n",
    "from fastai2.vision.widgets import *\n",
    "from IPython.display import display,clear_output, Javascript\n",
    "\n",
    "style = {'description_width': 'initial'}\n",
    "\n",
    "RED = '\\033[31m'\n",
    "BLUE = '\\033[94m'\n",
    "GREEN = '\\033[92m'\n",
    "BOLD   = '\\033[1m'\n",
    "ITALIC = '\\033[3m'\n",
    "RESET  = '\\033[0m'"
   ]
  },
  {
   "cell_type": "code",
   "execution_count": 6,
   "metadata": {
    "slideshow": {
     "slide_type": "slide"
    }
   },
   "outputs": [
    {
     "data": {
      "application/vnd.jupyter.widget-view+json": {
       "model_id": "ff335e60ec4c4776a417b06344236982",
       "version_major": 2,
       "version_minor": 0
      },
      "text/plain": [
       "Button(description='Button', style=ButtonStyle())"
      ]
     },
     "metadata": {},
     "output_type": "display_data"
    },
    {
     "data": {
      "application/vnd.jupyter.widget-view+json": {
       "model_id": "d336b04d5ef346259d798c6dff2d04ba",
       "version_major": 2,
       "version_minor": 0
      },
      "text/plain": [
       "Output()"
      ]
     },
     "metadata": {},
     "output_type": "display_data"
    }
   ],
   "source": [
    "button = widgets.Button(description='Button')\n",
    "display(button)\n",
    "out = widgets.Output()\n",
    "display(out)\n",
    "def on_button(b):\n",
    "    with out:\n",
    "        print('Button pressed')\n",
    "button.on_click(on_button)"
   ]
  },
  {
   "cell_type": "code",
   "execution_count": 19,
   "metadata": {
    "slideshow": {
     "slide_type": "slide"
    }
   },
   "outputs": [],
   "source": [
    "def dashboard_one():\n",
    "    \"\"\"GUI for first accordion window\"\"\"\n",
    "    try:\n",
    "        import fastai2; fastver = fastai2.__version__\n",
    "    except ImportError:\n",
    "        fastver = 'fastai not found'\n",
    "    try:\n",
    "        import fastprogress; fastprog = fastprogress.__version__\n",
    "    except ImportError:\n",
    "        fastprog = 'fastprogress not found'\n",
    "\n",
    "    print (BOLD +  RED + '>> fastGUI')\n",
    "\n",
    "    button = widgets.Button(description='System', button_style='success')\n",
    "    ex_button = widgets.Button(description='Explore', button_style='success')\n",
    "    display(button)\n",
    "\n",
    "    out = widgets.Output()\n",
    "    display(out)\n",
    "\n",
    "    def on_button_clicked_info(b):\n",
    "        with out:\n",
    "            clear_output()\n",
    "            print(f'fastai2 Version: {str(fastver)}')\n",
    "            print(f'fastprogress: {str(fastprog)}')\n",
    "\n",
    "    button.on_click(on_button_clicked_info)\n"
   ]
  },
  {
   "cell_type": "code",
   "execution_count": 20,
   "metadata": {},
   "outputs": [],
   "source": [
    "def display_ui():\n",
    "    \"\"\" Display tabs for visual display\"\"\"\n",
    "    button = widgets.Button(description=\"Train\")\n",
    "    button_b = widgets.Button(description=\"Metrics\")\n",
    "    button_m = widgets.Button(description='Model')\n",
    "    button_l = widgets.Button(description='LR')\n",
    "\n",
    "    test_button = widgets.Button(description='Batch')\n",
    "    test2_button = widgets.Button(description='Test2')\n",
    "\n",
    "    out1a = widgets.Output()\n",
    "    out1 = widgets.Output()\n",
    "    out2 = widgets.Output()\n",
    "    out3 = widgets.Output()\n",
    "    out4 = widgets.Output()\n",
    "    out5 = widgets.Output()\n",
    "\n",
    "    data1a = pd.DataFrame(np.random.normal(size = 50))\n",
    "    data1 = pd.DataFrame(np.random.normal(size = 100))\n",
    "    data2 = pd.DataFrame(np.random.normal(size = 150))\n",
    "    data3 = pd.DataFrame(np.random.normal(size = 200))\n",
    "    data4 = pd.DataFrame(np.random.normal(size = 250))\n",
    "    data5 = pd.DataFrame(np.random.normal(size = 300))\n",
    "\n",
    "    with out1a: #info\n",
    "        clear_output()\n",
    "        dashboard_one()\n",
    "\n",
    "    with out1: #data\n",
    "        clear_output()\n",
    "        #dashboard_two()\n",
    "\n",
    "    with out2: #augmentation\n",
    "        clear_output()\n",
    "        #aug_dash()\n",
    "\n",
    "    with out3: #Block\n",
    "        clear_output()\n",
    "        #ds_3()\n",
    "\n",
    "    with out4: #code\n",
    "        clear_output()\n",
    "        #write_code()\n",
    "\n",
    "    with out5: #Imagewoof Play\n",
    "        clear_output()\n",
    "\n",
    "    display_ui.tab = widgets.Tab(children = [out1a, out1, out2, out3, out4, out5])\n",
    "    display_ui.tab.set_title(0, 'Info')\n",
    "    display_ui.tab.set_title(1, 'Data')\n",
    "    display_ui.tab.set_title(2, 'Augmentation')\n",
    "    display_ui.tab.set_title(3, 'DataBlock')\n",
    "    display_ui.tab.set_title(4, 'Code')\n",
    "    display_ui.tab.set_title(5, 'ImageWoof Play')\n",
    "    display(display_ui.tab)\n"
   ]
  },
  {
   "cell_type": "code",
   "execution_count": 21,
   "metadata": {},
   "outputs": [
    {
     "data": {
      "application/vnd.jupyter.widget-view+json": {
       "model_id": "19e995a51bec471494800012cb0e7ec7",
       "version_major": 2,
       "version_minor": 0
      },
      "text/plain": [
       "Tab(children=(Output(), Output(), Output(), Output(), Output(), Output()), _titles={'0': 'Info', '1': 'Data', …"
      ]
     },
     "metadata": {},
     "output_type": "display_data"
    }
   ],
   "source": [
    "display_ui()"
   ]
  },
  {
   "cell_type": "code",
   "execution_count": null,
   "metadata": {},
   "outputs": [],
   "source": []
  }
 ],
 "metadata": {
  "kernelspec": {
   "display_name": "Python 3",
   "language": "python",
   "name": "python3"
  },
  "language_info": {
   "codemirror_mode": {
    "name": "ipython",
    "version": 3
   },
   "file_extension": ".py",
   "mimetype": "text/x-python",
   "name": "python",
   "nbconvert_exporter": "python",
   "pygments_lexer": "ipython3",
   "version": "3.7.6"
  }
 },
 "nbformat": 4,
 "nbformat_minor": 4
}
