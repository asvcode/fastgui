{
 "cells": [
  {
   "cell_type": "code",
   "execution_count": 6,
   "metadata": {},
   "outputs": [],
   "source": [
    "import ipywidgets as widgets\n",
    "from fastai2.vision.all import*\n",
    "from IPython.display import display,clear_output, Javascript\n",
    "\n",
    "style = {'description_width': 'initial'}\n",
    "\n",
    "RED = '\\033[31m'\n",
    "BLUE = '\\033[94m'\n",
    "GREEN = '\\033[92m'\n",
    "BOLD   = '\\033[1m'\n",
    "ITALIC = '\\033[3m'\n",
    "RESET  = '\\033[0m'"
   ]
  },
  {
   "cell_type": "code",
   "execution_count": 7,
   "metadata": {},
   "outputs": [
    {
     "data": {
      "application/vnd.jupyter.widget-view+json": {
       "model_id": "f28e0a449dda4b87b395a75e0c050711",
       "version_major": 2,
       "version_minor": 0
      },
      "text/plain": [
       "Button(description='Button', style=ButtonStyle())"
      ]
     },
     "metadata": {},
     "output_type": "display_data"
    },
    {
     "data": {
      "application/vnd.jupyter.widget-view+json": {
       "model_id": "690c3f9ca7064704ba6f161b2b4d217d",
       "version_major": 2,
       "version_minor": 0
      },
      "text/plain": [
       "Output()"
      ]
     },
     "metadata": {},
     "output_type": "display_data"
    }
   ],
   "source": [
    "button = widgets.Button(description='Button')\n",
    "display(button)\n",
    "out = widgets.Output()\n",
    "display(out)\n",
    "def on_button(b):\n",
    "    with out:\n",
    "        print('Button pressed')\n",
    "button.on_click(on_button)"
   ]
  },
  {
   "cell_type": "code",
   "execution_count": 8,
   "metadata": {},
   "outputs": [],
   "source": [
    "def dashboard_one():\n",
    "    \"\"\"GUI for first accordion window\"\"\"\n",
    "    import psutil\n",
    "    import torchvision\n",
    "    try:\n",
    "        import fastai2; fastver = fastai2.__version__\n",
    "    except ImportError:\n",
    "        fastver = 'fastai not found'\n",
    "    try:\n",
    "        import fastprogress; fastprog = fastprogress.__version__\n",
    "    except ImportError:\n",
    "        fastprog = 'fastprogress not found'\n",
    "    try:\n",
    "        import fastpages; fastp = fastpages.__version__\n",
    "    except ImportError:\n",
    "        fastp = 'fastpages not found'\n",
    "    try:\n",
    "        import nbdev; nbd = nbdev.__version__\n",
    "    except ImportError:\n",
    "        ndb = 'nbdev not found'\n",
    "\n",
    "    print (BOLD +  RED + '>> Vision_UI Update: 03/17/2020')\n",
    "    style = {'description_width': 'initial'}\n",
    "\n",
    "    button = widgets.Button(description='System', button_style='success')\n",
    "    ex_button = widgets.Button(description='Explore', button_style='success')\n",
    "    display(button)\n",
    "\n",
    "    out = widgets.Output()\n",
    "    display(out)\n",
    "\n",
    "    def on_button_clicked_info(b):\n",
    "        with out:\n",
    "            clear_output()\n",
    "            print(BOLD + BLUE + \"fastai2 Version: \" + RESET + ITALIC + str(fastver))\n",
    "            print(BOLD + BLUE + \"nbdev Version: \" + RESET + ITALIC + str(nbd))\n",
    "            print(BOLD + BLUE + \"fastprogress Version: \" + RESET + ITALIC + str(fastprog))\n",
    "            print(BOLD + BLUE + \"fastpages Version: \" + RESET + ITALIC + str(fastp) + '\\n')\n",
    "            print(BOLD + BLUE + \"python Version: \" + RESET + ITALIC + str(sys.version))\n",
    "            print(BOLD + BLUE + \"torchvision: \" + RESET + ITALIC + str(torchvision.__version__))\n",
    "            print(BOLD + BLUE + \"torch version: \" + RESET + ITALIC + str(torch.__version__))\n",
    "            print(BOLD + BLUE + \"\\nCuda: \" + RESET + ITALIC + str(torch.cuda.is_available()))\n",
    "            print(BOLD + BLUE + \"cuda Version: \" + RESET + ITALIC + str(torch.version.cuda))\n",
    "            print(BOLD + BLUE + \"GPU: \" + RESET + ITALIC + str(torch.cuda.get_device_name(0)))\n",
    "            print(BOLD + BLUE + \"\\nCPU%: \" + RESET + ITALIC + str(psutil.cpu_percent()))\n",
    "            print(BOLD + BLUE + \"\\nmemory % used: \" + RESET + ITALIC + str(psutil.virtual_memory()[2]))\n",
    "    button.on_click(on_button_clicked_info)\n",
    "\n",
    "    print ('>> Resources')\n",
    "    button_two = widgets.Button(description='Fastai Docs', button_style='info')\n",
    "    button_three = widgets.Button(description='Fastai Forums', button_style='info')\n",
    "    button_four = widgets.Button(description='Vision_UI github', button_style='info')\n",
    "\n",
    "    but_two = widgets.HBox([button_two, button_three, button_four])\n",
    "    display(but_two)\n",
    "\n",
    "    def on_doc_info(b):\n",
    "        webbrowser.open('https://dev.fast.ai/')\n",
    "    button_two.on_click(on_doc_info)\n",
    "\n",
    "    def on_forum(b):\n",
    "        webbrowser.open('https://forums.fast.ai/')\n",
    "    button_three.on_click(on_forum)\n",
    "\n",
    "    def vision_utube(b):\n",
    "            webbrowser.open('https://github.com/asvcode/Vision_UI')\n",
    "    button_four.on_click(vision_utube)\n"
   ]
  },
  {
   "cell_type": "code",
   "execution_count": 9,
   "metadata": {},
   "outputs": [
    {
     "name": "stdout",
     "output_type": "stream",
     "text": [
      "\u001b[1m\u001b[31m>> Vision_UI Update: 03/17/2020\n"
     ]
    },
    {
     "data": {
      "application/vnd.jupyter.widget-view+json": {
       "model_id": "0a94dba91a294ce49b58e6bbeab24ff3",
       "version_major": 2,
       "version_minor": 0
      },
      "text/plain": [
       "Button(button_style='success', description='System', style=ButtonStyle())"
      ]
     },
     "metadata": {},
     "output_type": "display_data"
    },
    {
     "data": {
      "application/vnd.jupyter.widget-view+json": {
       "model_id": "62913ac831494823b5b93f0eb476ea13",
       "version_major": 2,
       "version_minor": 0
      },
      "text/plain": [
       "Output()"
      ]
     },
     "metadata": {},
     "output_type": "display_data"
    },
    {
     "name": "stdout",
     "output_type": "stream",
     "text": [
      ">> Resources\n"
     ]
    },
    {
     "data": {
      "application/vnd.jupyter.widget-view+json": {
       "model_id": "0bbc227126a84e8fb120a01be7865e24",
       "version_major": 2,
       "version_minor": 0
      },
      "text/plain": [
       "HBox(children=(Button(button_style='info', description='Fastai Docs', style=ButtonStyle()), Button(button_styl…"
      ]
     },
     "metadata": {},
     "output_type": "display_data"
    }
   ],
   "source": [
    "dashboard_one()"
   ]
  },
  {
   "cell_type": "code",
   "execution_count": null,
   "metadata": {},
   "outputs": [],
   "source": []
  }
 ],
 "metadata": {
  "kernelspec": {
   "display_name": "Python 3",
   "language": "python",
   "name": "python3"
  },
  "language_info": {
   "codemirror_mode": {
    "name": "ipython",
    "version": 3
   },
   "file_extension": ".py",
   "mimetype": "text/x-python",
   "name": "python",
   "nbconvert_exporter": "python",
   "pygments_lexer": "ipython3",
   "version": "3.7.6"
  }
 },
 "nbformat": 4,
 "nbformat_minor": 4
}
