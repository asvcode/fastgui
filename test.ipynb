{
 "cells": [
  {
   "cell_type": "code",
   "execution_count": 5,
   "metadata": {},
   "outputs": [],
   "source": [
    "import ipywidgets as widgets\n",
    "from fastai2.vision.all import *\n",
    "from fastai2.vision.widgets import *\n",
    "from IPython.display import display,clear_output, Javascript"
   ]
  },
  {
   "cell_type": "code",
   "execution_count": 6,
   "metadata": {
    "slideshow": {
     "slide_type": "slide"
    }
   },
   "outputs": [
    {
     "data": {
      "application/vnd.jupyter.widget-view+json": {
       "model_id": "ff335e60ec4c4776a417b06344236982",
       "version_major": 2,
       "version_minor": 0
      },
      "text/plain": [
       "Button(description='Button', style=ButtonStyle())"
      ]
     },
     "metadata": {},
     "output_type": "display_data"
    },
    {
     "data": {
      "application/vnd.jupyter.widget-view+json": {
       "model_id": "d336b04d5ef346259d798c6dff2d04ba",
       "version_major": 2,
       "version_minor": 0
      },
      "text/plain": [
       "Output()"
      ]
     },
     "metadata": {},
     "output_type": "display_data"
    }
   ],
   "source": [
    "button = widgets.Button(description='Button')\n",
    "display(button)\n",
    "out = widgets.Output()\n",
    "display(out)\n",
    "def on_button(b):\n",
    "    with out:\n",
    "        print('Button pressed')\n",
    "button.on_click(on_button)"
   ]
  },
  {
   "cell_type": "code",
   "execution_count": 7,
   "metadata": {
    "slideshow": {
     "slide_type": "slide"
    }
   },
   "outputs": [],
   "source": [
    "def dashboard_one():\n",
    "    \"\"\"GUI for first accordion window\"\"\"\n",
    "    import psutil\n",
    "    import torchvision\n",
    "    try:\n",
    "        import fastai2; fastver = fastai2.__version__\n",
    "    except ImportError:\n",
    "        fastver = 'fastai not found'\n",
    "\n",
    "    print ('>> Vision_UI Update: 03/17/2020')\n",
    "    style = {'description_width': 'initial'}\n",
    "\n",
    "    button = widgets.Button(description='System', button_style='success')\n",
    "    ex_button = widgets.Button(description='Explore', button_style='success')\n",
    "    display(button)\n",
    "\n",
    "    out = widgets.Output()\n",
    "    display(out)\n",
    "\n",
    "    def on_button_clicked_info(b):\n",
    "        with out:\n",
    "            clear_output()\n",
    "            print(f'fastai2 Version: {str(fastver)}')\n",
    "\n",
    "    button.on_click(on_button_clicked_info)\n",
    "\n",
    "    print ('>> Resources')\n",
    "    button_two = widgets.Button(description='Fastai Docs', button_style='info')\n",
    "    button_three = widgets.Button(description='Fastai Forums', button_style='info')\n",
    "    button_four = widgets.Button(description='Vision_UI github', button_style='info')\n",
    "\n",
    "    but_two = widgets.HBox([button_two, button_three, button_four])\n",
    "    display(but_two)\n",
    "\n",
    "    def on_doc_info(b):\n",
    "        webbrowser.open('https://dev.fast.ai/')\n",
    "    button_two.on_click(on_doc_info)\n",
    "\n",
    "    def on_forum(b):\n",
    "        webbrowser.open('https://forums.fast.ai/')\n",
    "    button_three.on_click(on_forum)\n",
    "\n",
    "    def vision_utube(b):\n",
    "            webbrowser.open('https://github.com/asvcode/Vision_UI')\n",
    "    button_four.on_click(vision_utube)\n"
   ]
  },
  {
   "cell_type": "code",
   "execution_count": 8,
   "metadata": {},
   "outputs": [
    {
     "name": "stdout",
     "output_type": "stream",
     "text": [
      ">> Vision_UI Update: 03/17/2020\n"
     ]
    },
    {
     "data": {
      "application/vnd.jupyter.widget-view+json": {
       "model_id": "56751dca368d49f9bd2cf31c9151913c",
       "version_major": 2,
       "version_minor": 0
      },
      "text/plain": [
       "Button(button_style='success', description='System', style=ButtonStyle())"
      ]
     },
     "metadata": {},
     "output_type": "display_data"
    },
    {
     "data": {
      "application/vnd.jupyter.widget-view+json": {
       "model_id": "f965bc1882584fac8dedb63616f03abc",
       "version_major": 2,
       "version_minor": 0
      },
      "text/plain": [
       "Output()"
      ]
     },
     "metadata": {},
     "output_type": "display_data"
    },
    {
     "name": "stdout",
     "output_type": "stream",
     "text": [
      ">> Resources\n"
     ]
    },
    {
     "data": {
      "application/vnd.jupyter.widget-view+json": {
       "model_id": "4b191d75f96b4ca2a56b2757c3f2c68e",
       "version_major": 2,
       "version_minor": 0
      },
      "text/plain": [
       "HBox(children=(Button(button_style='info', description='Fastai Docs', style=ButtonStyle()), Button(button_styl…"
      ]
     },
     "metadata": {},
     "output_type": "display_data"
    }
   ],
   "source": [
    "dashboard_one()"
   ]
  },
  {
   "cell_type": "code",
   "execution_count": null,
   "metadata": {},
   "outputs": [],
   "source": []
  }
 ],
 "metadata": {
  "kernelspec": {
   "display_name": "Python 3",
   "language": "python",
   "name": "python3"
  },
  "language_info": {
   "codemirror_mode": {
    "name": "ipython",
    "version": 3
   },
   "file_extension": ".py",
   "mimetype": "text/x-python",
   "name": "python",
   "nbconvert_exporter": "python",
   "pygments_lexer": "ipython3",
   "version": "3.7.6"
  }
 },
 "nbformat": 4,
 "nbformat_minor": 4
}
